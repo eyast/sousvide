{
 "cells": [
  {
   "cell_type": "code",
   "execution_count": 1,
   "metadata": {},
   "outputs": [],
   "source": [
    "import torch\n",
    "import matplotlib.pyplot as plt\n",
    "from deeplearning_class import SousVideDataset, MyLSTM, train\n",
    "from torch.utils.data import DataLoader"
   ]
  },
  {
   "cell_type": "code",
   "execution_count": 2,
   "metadata": {},
   "outputs": [
    {
     "name": "stdout",
     "output_type": "stream",
     "text": [
      "Index(['stepcount', 'current_temp', 'outcome', 'target'], dtype='object')\n",
      "Using cpu device\n"
     ]
    }
   ],
   "source": [
    "mydataset = SousVideDataset(transform=True, recurse=True, target_distance=30)\n",
    "\n",
    "mydataloader = DataLoader(mydataset, batch_size=20, shuffle=False)\n",
    "device = 'cuda' if torch.cuda.is_available() else 'cpu'\n",
    "print(f'Using {device} device')\n",
    "model = MyLSTM(num_classes=1, input_size=mydataset._width(), hidden_size=10, num_layers=1, seq_length=360).to(device)"
   ]
  },
  {
   "cell_type": "code",
   "execution_count": 3,
   "metadata": {},
   "outputs": [
    {
     "name": "stdout",
     "output_type": "stream",
     "text": [
      "epoch: 0, loss: 934.4021175581671\n",
      "epoch: 1, loss: 223.9341744548548\n",
      "epoch: 2, loss: 225.69138826387933\n",
      "epoch: 3, loss: 225.75675369484816\n",
      "epoch: 4, loss: 225.50168178110383\n",
      "epoch: 5, loss: 225.8034645886859\n",
      "epoch: 6, loss: 225.66806899832562\n",
      "epoch: 7, loss: 225.44995297773275\n"
     ]
    }
   ],
   "source": [
    "train(model, mydataloader)"
   ]
  },
  {
   "cell_type": "code",
   "execution_count": null,
   "metadata": {},
   "outputs": [],
   "source": []
  }
 ],
 "metadata": {
  "interpreter": {
   "hash": "4239f4a7e0c4719f8866eda62771cd6bdfee757b1cf6d7e3bcf39f5e5209c631"
  },
  "kernelspec": {
   "display_name": "Python 3.9.7 64-bit ('openai': conda)",
   "language": "python",
   "name": "python3"
  },
  "language_info": {
   "codemirror_mode": {
    "name": "ipython",
    "version": 3
   },
   "file_extension": ".py",
   "mimetype": "text/x-python",
   "name": "python",
   "nbconvert_exporter": "python",
   "pygments_lexer": "ipython3",
   "version": "3.8.12"
  },
  "orig_nbformat": 4
 },
 "nbformat": 4,
 "nbformat_minor": 2
}
