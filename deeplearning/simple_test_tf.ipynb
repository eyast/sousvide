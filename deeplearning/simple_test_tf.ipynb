{
 "cells": [
  {
   "cell_type": "code",
   "execution_count": 1,
   "metadata": {},
   "outputs": [],
   "source": [
    "import torch\n",
    "import matplotlib.pyplot as plt\n",
    "from deeplearning_class import SousVideDataset, MyLSTM, train\n",
    "from torch.utils.data import DataLoader"
   ]
  },
  {
   "cell_type": "code",
   "execution_count": 2,
   "metadata": {},
   "outputs": [
    {
     "name": "stdout",
     "output_type": "stream",
     "text": [
      "Using cpu device\n"
     ]
    }
   ],
   "source": [
    "mydataset = SousVideDataset(transform=True)\n",
    "mydataloader = DataLoader(mydataset, batch_size=20, shuffle=False)\n",
    "device = 'cuda' if torch.cuda.is_available() else 'cpu'\n",
    "print(f'Using {device} device')\n",
    "model = MyLSTM(num_classes=1, input_size=42, hidden_size=2, num_layers=1, seq_length=360).to(device)"
   ]
  },
  {
   "cell_type": "code",
   "execution_count": 3,
   "metadata": {},
   "outputs": [
    {
     "name": "stdout",
     "output_type": "stream",
     "text": [
      "epoch: 0, loss: 213.0186079978943\n",
      "epoch: 1, loss: 171.65025747299194\n",
      "epoch: 2, loss: 78.87298885867\n",
      "epoch: 3, loss: 35.8180933582224\n",
      "epoch: 4, loss: 14.076430239807815\n",
      "epoch: 5, loss: 14.07723281191662\n",
      "epoch: 6, loss: 14.082811297513544\n",
      "epoch: 7, loss: 14.088667709045112\n",
      "epoch: 8, loss: 14.082561109829694\n",
      "epoch: 9, loss: 14.076847669463605\n",
      "epoch: 10, loss: 14.07508194785565\n",
      "epoch: 11, loss: 14.082849996313453\n",
      "epoch: 12, loss: 14.080231601968407\n",
      "epoch: 13, loss: 14.087997229862959\n",
      "epoch: 14, loss: 14.076767982337623\n",
      "epoch: 15, loss: 14.066737179076299\n",
      "epoch: 16, loss: 14.074508966188878\n",
      "epoch: 17, loss: 14.074691538065672\n",
      "epoch: 18, loss: 14.076734800338745\n",
      "epoch: 19, loss: 14.066710249455646\n",
      "epoch: 20, loss: 14.074481131508946\n",
      "epoch: 21, loss: 14.074667509421706\n",
      "epoch: 22, loss: 14.07671024510637\n",
      "epoch: 23, loss: 14.066686668917537\n",
      "epoch: 24, loss: 14.074459012616426\n",
      "epoch: 25, loss: 14.074645574614406\n",
      "epoch: 26, loss: 14.076689147017897\n",
      "epoch: 27, loss: 14.066665928354487\n",
      "epoch: 28, loss: 14.082725310884417\n",
      "epoch: 29, loss: 14.082352653704584\n",
      "epoch: 30, loss: 14.076671249102802\n",
      "epoch: 31, loss: 14.07232426338829\n",
      "epoch: 32, loss: 14.082707574740052\n",
      "epoch: 33, loss: 14.08233297554776\n",
      "epoch: 34, loss: 14.076654203440993\n",
      "epoch: 35, loss: 14.076653965879231\n",
      "epoch: 36, loss: 14.066631563743577\n",
      "epoch: 37, loss: 14.076637595780193\n",
      "epoch: 38, loss: 14.076637744884938\n",
      "epoch: 39, loss: 14.076640328485519\n",
      "epoch: 40, loss: 14.066618202440441\n",
      "epoch: 41, loss: 14.074389857146889\n",
      "epoch: 42, loss: 14.087842209730297\n",
      "epoch: 43, loss: 14.076622484270484\n",
      "epoch: 44, loss: 14.066601469488814\n",
      "epoch: 45, loss: 14.074375181067735\n",
      "epoch: 46, loss: 14.074566308818758\n",
      "epoch: 47, loss: 14.076608705595136\n",
      "epoch: 48, loss: 14.066589851938188\n",
      "epoch: 49, loss: 14.082653264664113\n",
      "epoch: 50, loss: 14.08227295320481\n",
      "epoch: 51, loss: 14.076596201881767\n",
      "epoch: 52, loss: 14.066575281387195\n",
      "epoch: 53, loss: 14.082630798276513\n",
      "epoch: 54, loss: 14.08226024467498\n",
      "epoch: 55, loss: 14.076581568829715\n",
      "epoch: 56, loss: 14.08235528761521\n",
      "epoch: 57, loss: 14.088301406446844\n",
      "epoch: 58, loss: 14.082247230652719\n",
      "epoch: 59, loss: 14.076567999608814\n",
      "epoch: 60, loss: 14.08357404211536\n",
      "epoch: 61, loss: 14.078643242828548\n",
      "epoch: 62, loss: 14.082233672924339\n",
      "epoch: 63, loss: 14.076553835812955\n",
      "epoch: 64, loss: 14.076557359676809\n",
      "epoch: 65, loss: 14.066533571761102\n",
      "epoch: 66, loss: 14.082595111653209\n",
      "epoch: 67, loss: 14.082220525741578\n",
      "epoch: 68, loss: 14.076542449891567\n",
      "epoch: 69, loss: 14.066519531607629\n",
      "epoch: 70, loss: 14.082577915284782\n",
      "epoch: 71, loss: 14.082202777974308\n",
      "epoch: 72, loss: 14.076530361063778\n",
      "epoch: 73, loss: 14.082302583865822\n",
      "epoch: 74, loss: 14.088248048163951\n",
      "epoch: 75, loss: 14.082197442874312\n",
      "epoch: 76, loss: 14.076512451209128\n",
      "epoch: 77, loss: 14.083517398387194\n",
      "epoch: 78, loss: 14.078592172041535\n",
      "epoch: 79, loss: 14.088234781436622\n",
      "epoch: 80, loss: 14.082177440598606\n",
      "epoch: 81, loss: 14.076503209769726\n",
      "epoch: 82, loss: 14.066482183709741\n",
      "epoch: 83, loss: 14.082539739590139\n",
      "epoch: 84, loss: 14.082168417144567\n",
      "epoch: 85, loss: 14.076488137003034\n",
      "epoch: 86, loss: 14.066466703703627\n",
      "epoch: 87, loss: 14.08252783952281\n",
      "epoch: 88, loss: 14.082153100986034\n",
      "epoch: 89, loss: 14.076477384548634\n",
      "epoch: 90, loss: 14.082248376980424\n",
      "epoch: 91, loss: 14.088195718470962\n",
      "epoch: 92, loss: 14.08214193323627\n",
      "epoch: 93, loss: 14.076463631633668\n",
      "epoch: 94, loss: 14.083467584270984\n",
      "epoch: 95, loss: 14.078544463403523\n",
      "epoch: 96, loss: 14.088185369577259\n",
      "epoch: 97, loss: 14.082129439264536\n",
      "epoch: 98, loss: 14.076454099658877\n",
      "epoch: 99, loss: 14.06643104669638\n"
     ]
    }
   ],
   "source": [
    "train(model, mydataloader)"
   ]
  },
  {
   "cell_type": "code",
   "execution_count": null,
   "metadata": {},
   "outputs": [],
   "source": []
  }
 ],
 "metadata": {
  "interpreter": {
   "hash": "4239f4a7e0c4719f8866eda62771cd6bdfee757b1cf6d7e3bcf39f5e5209c631"
  },
  "kernelspec": {
   "display_name": "Python 3.9.7 64-bit ('openai': conda)",
   "language": "python",
   "name": "python3"
  },
  "language_info": {
   "codemirror_mode": {
    "name": "ipython",
    "version": 3
   },
   "file_extension": ".py",
   "mimetype": "text/x-python",
   "name": "python",
   "nbconvert_exporter": "python",
   "pygments_lexer": "ipython3",
   "version": "3.8.12"
  },
  "orig_nbformat": 4
 },
 "nbformat": 4,
 "nbformat_minor": 2
}
